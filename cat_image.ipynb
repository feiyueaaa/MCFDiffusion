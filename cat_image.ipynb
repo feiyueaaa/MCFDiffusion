{
 "cells": [
  {
   "cell_type": "code",
   "execution_count": 1,
   "id": "91ffba9a-f5ce-4c79-b552-e5f60cdb28e1",
   "metadata": {
    "tags": []
   },
   "outputs": [],
   "source": [
    "import torch\n",
    "import torch.nn as nn\n",
    "import torchvision as tv\n",
    "from torch.autograd import Variable\n",
    "import tqdm\n",
    "import matplotlib.pyplot as plt\n",
    "import random\n",
    "import math\n",
    "import time\n",
    "import pandas as pd\n",
    "import numpy as np\n",
    "from PIL import Image\n",
    "\n",
    "import torch\n",
    "import torch.utils.data as data\n",
    "import torch.nn.functional as F\n",
    "import torch.optim as optim\n",
    "from torchvision import transforms\n",
    "import os\n",
    "# from torch import nn\n",
    "from torch.utils.data import Dataset, DataLoader\n",
    "\n",
    "import matplotlib.pyplot as plt\n",
    "import torchvision.models as models"
   ]
  },
  {
   "cell_type": "code",
   "execution_count": 2,
   "id": "d3f08fd9-ecbd-417c-8479-ca4d514004d8",
   "metadata": {
    "tags": []
   },
   "outputs": [],
   "source": [
    "data = os.listdir('data/kaggle_3m/')"
   ]
  },
  {
   "cell_type": "code",
   "execution_count": 3,
   "id": "4b30e4c0-9ed1-4cdb-887d-33c9489ee29f",
   "metadata": {
    "tags": []
   },
   "outputs": [],
   "source": [
    "transform = transforms.Compose([\n",
    "            # transforms.Resize((64,64)),\n",
    "            transforms.ToTensor()\n",
    "        ])"
   ]
  },
  {
   "cell_type": "code",
   "execution_count": 4,
   "id": "8dca75ec-3614-4df7-bc1d-c245a59a3f77",
   "metadata": {
    "tags": []
   },
   "outputs": [],
   "source": [
    "img_pil = transforms.ToPILImage()"
   ]
  },
  {
   "cell_type": "code",
   "execution_count": null,
   "id": "b20fb1ee-764c-485c-a254-b434f7292252",
   "metadata": {
    "tags": []
   },
   "outputs": [],
   "source": [
    "for i in data:\n",
    "    img_list = os.listdir('data/kaggle_3m/'+i)\n",
    "    img_list.sort()\n",
    "    # print(len(img_list)/2)\n",
    "    num = 0\n",
    "    for j in img_list:\n",
    "        if j[0]=='.':\n",
    "            continue\n",
    "        # print(j)\n",
    "        # if j[21:-4]=='_1':\n",
    "        \n",
    "        if j[21:-4][-4:]=='mask':\n",
    "            # num = num-1\n",
    "            continue\n",
    "        num = int(j[22:-4])\n",
    "        # print(int(j[22:-4]))\n",
    "        if j[21:-4]=='_1':\n",
    "            middle_img = transform(Image.open('data/kaggle_3m/'+i+'/'+j))\n",
    "            left_img = torch.zeros_like(middle_img)\n",
    "            right_img  = transform(Image.open('data/kaggle_3m/'+i+'/'+j[:-5]+'2.tif'))\n",
    "            x = torch.cat((left_img,middle_img,right_img),dim=2)\n",
    "            img = img_pil(x)\n",
    "            img.save('./data/res/image/'+j)\n",
    "            \n",
    "        \n",
    "        elif int(j[22:-4])==(int(len(img_list)/2)):\n",
    "            # print(num)\n",
    "            # print(int(len(img_list)/2))\n",
    "            # print(j)\n",
    "            middle_img = transform(Image.open('data/kaggle_3m/'+i+'/'+j))\n",
    "            right_img = torch.zeros_like(middle_img)\n",
    "            try:\n",
    "                left_img  = transform(Image.open('data/kaggle_3m/'+i+'/'+j[:-5]+str(num-1)+'.tif'))\n",
    "            except Exception as e:\n",
    "                left_img  = transform(Image.open('data/kaggle_3m/'+i+'/'+j[:-6]+str(num-1)+'.tif'))\n",
    "            x = torch.cat((left_img,middle_img,right_img),dim=2)\n",
    "            img = img_pil(x)\n",
    "            img.save('./data/res/image/'+j)\n",
    "        \n",
    "        \n",
    "        else:\n",
    "            # print(num)\n",
    "            # print(int(len(img_list)/2))\n",
    "            # print(j)\n",
    "            middle_img = transform(Image.open('data/kaggle_3m/'+i+'/'+j))\n",
    "            # right_img = torch.zeros_like(middle_img)\n",
    "            if num == 10:\n",
    "                left_img  = transform(Image.open('data/kaggle_3m/'+i+'/'+j[:-6]+str(num-1)+'.tif'))\n",
    "            else:\n",
    "                try:\n",
    "                    left_img  = transform(Image.open('data/kaggle_3m/'+i+'/'+j[:-5]+str(num-1)+'.tif'))\n",
    "                except Exception as e:\n",
    "                    left_img  = transform(Image.open('data/kaggle_3m/'+i+'/'+j[:-6]+str(num-1)+'.tif'))\n",
    "\n",
    "            try:\n",
    "                right_img  = transform(Image.open('data/kaggle_3m/'+i+'/'+j[:-5]+str(num+1)+'.tif'))\n",
    "            except Exception as e:\n",
    "                right_img  = transform(Image.open('data/kaggle_3m/'+i+'/'+j[:-6]+str(num+1)+'.tif'))\n",
    "            x = torch.cat((left_img,middle_img,right_img),dim=2)\n",
    "            img = img_pil(x)\n",
    "            img.save('./data/res/image/'+j)\n",
    "        # print(num)"
   ]
  },
  {
   "cell_type": "code",
   "execution_count": null,
   "id": "891e82fe-ea26-4018-98d5-5073b4332988",
   "metadata": {
    "tags": []
   },
   "outputs": [],
   "source": [
    "for i in data:\n",
    "    img_list = os.listdir('data/kaggle_3m/'+i)\n",
    "    img_list.sort()\n",
    "    # print(len(img_list)/2)\n",
    "    num = 0\n",
    "    for j in img_list:\n",
    "        \n",
    "        # print(num)\n",
    "        # if j[21:-4]=='_1':\n",
    "        \n",
    "        if j[21:-4][-4:]=='mask':\n",
    "            # num = num-1\n",
    "            # continue\n",
    "            num = int(j[22:-9])\n",
    "            # print(int(j[22:-9]))\n",
    "            if j[22:-9]=='1':\n",
    "                # print(j)\n",
    "                middle_img = transform(Image.open('data/kaggle_3m/'+i+'/'+j))\n",
    "                left_img = torch.zeros_like(middle_img)\n",
    "                right_img  = transform(Image.open('data/kaggle_3m/'+i+'/'+j[:-10]+'2_mask.tif'))\n",
    "                # print('data/kaggle_3m/'+i+'/'+j[:-10]+'2_mask.tif')\n",
    "                x = torch.cat((left_img,middle_img,right_img),dim=2)\n",
    "                img = img_pil(x)\n",
    "                img.save('./data/res/mask/'+j)\n",
    "\n",
    "\n",
    "            elif int(j[22:-9])==(int(len(img_list)/2)):\n",
    "                # print(num)\n",
    "                # print(int(len(img_list)/2))\n",
    "                # print(j)\n",
    "                middle_img = transform(Image.open('data/kaggle_3m/'+i+'/'+j))\n",
    "                right_img = torch.zeros_like(middle_img)\n",
    "                try:\n",
    "                    left_img  = transform(Image.open('data/kaggle_3m/'+i+'/'+j[:-10]+str(num-1)+'_mask.tif'))\n",
    "                except Exception as e:\n",
    "                    left_img  = transform(Image.open('data/kaggle_3m/'+i+'/'+j[:-11]+str(num-1)+'_mask.tif'))\n",
    "                x = torch.cat((left_img,middle_img,right_img),dim=2)\n",
    "                img = img_pil(x)\n",
    "                img.save('./data/res/mask/'+j)\n",
    "\n",
    "\n",
    "            else:\n",
    "                # print(num)\n",
    "                # print(int(len(img_list)/2))\n",
    "                # print(j)\n",
    "                # if num==10:\n",
    "                    # print(str(num-1))\n",
    "                middle_img = transform(Image.open('data/kaggle_3m/'+i+'/'+j))\n",
    "                # right_img = torch.zeros_like(middle_img)\n",
    "                if num == 10:\n",
    "                    left_img  = transform(Image.open('data/kaggle_3m/'+i+'/'+j[:-11]+str(num-1)+'_mask.tif'))\n",
    "                    # print('data/kaggle_3m/'+i+'/'+j[:-11]+str(num-1)+'_mask.tif')\n",
    "                    \n",
    "                else:\n",
    "                    try:\n",
    "                        left_img  = transform(Image.open('data/kaggle_3m/'+i+'/'+j[:-10]+str(num-1)+'_mask.tif'))\n",
    "                    except Exception as e:\n",
    "                        # print(j[:-9])\n",
    "                        left_img  = transform(Image.open('data/kaggle_3m/'+i+'/'+j[:-11]+str(num-1)+'_mask.tif'))\n",
    "\n",
    "                try:\n",
    "                    right_img  = transform(Image.open('data/kaggle_3m/'+i+'/'+j[:-10]+str(num+1)+'_mask.tif'))\n",
    "                except Exception as e:\n",
    "                    right_img  = transform(Image.open('data/kaggle_3m/'+i+'/'+j[:-11]+str(num+1)+'_mask.tif'))\n",
    "                x = torch.cat((left_img,middle_img,right_img),dim=2)\n",
    "                img = img_pil(x)\n",
    "                img.save('./data/res/mask/'+j)\n",
    "        # print(num)"
   ]
  },
  {
   "cell_type": "code",
   "execution_count": null,
   "id": "fff614b9-40dc-495b-ae93-2fb077ff405c",
   "metadata": {},
   "outputs": [],
   "source": []
  }
 ],
 "metadata": {
  "kernelspec": {
   "display_name": "d2l",
   "language": "python",
   "name": "d2l"
  },
  "language_info": {
   "codemirror_mode": {
    "name": "ipython",
    "version": 3
   },
   "file_extension": ".py",
   "mimetype": "text/x-python",
   "name": "python",
   "nbconvert_exporter": "python",
   "pygments_lexer": "ipython3",
   "version": "3.8.0"
  }
 },
 "nbformat": 4,
 "nbformat_minor": 5
}
